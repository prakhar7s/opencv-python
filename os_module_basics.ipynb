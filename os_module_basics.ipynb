{
 "metadata": {
  "orig_nbformat": 2,
  "kernelspec": {
   "name": "python3",
   "display_name": "Python 3",
   "language": "python"
  }
 },
 "nbformat": 4,
 "nbformat_minor": 2,
 "cells": [
  {
   "cell_type": "code",
   "execution_count": 10,
   "metadata": {},
   "outputs": [],
   "source": [
    "import os"
   ]
  },
  {
   "cell_type": "code",
   "execution_count": 11,
   "metadata": {},
   "outputs": [
    {
     "output_type": "execute_result",
     "data": {
      "text/plain": [
       "'/home/prakhar/Data/python-opencv/new_folder'"
      ]
     },
     "metadata": {},
     "execution_count": 11
    }
   ],
   "source": [
    "# current working directory\n",
    "# returns absolute path of CWD\n",
    "os.getcwd()"
   ]
  },
  {
   "cell_type": "code",
   "execution_count": 12,
   "metadata": {},
   "outputs": [
    {
     "output_type": "stream",
     "name": "stdout",
     "text": [
      "[]\n"
     ]
    }
   ],
   "source": [
    "# get all files and folders of the CWD as a list\n",
    "print(os.listdir())"
   ]
  },
  {
   "cell_type": "code",
   "execution_count": 13,
   "metadata": {},
   "outputs": [],
   "source": [
    "# to create a folder\n",
    "# but if folder is already exists this will raise an error\n",
    "# so instead of directly creating a folder first check\n",
    "\n",
    "if not os.path.exists('new_folder'):\n",
    "    os.mkdir('new_folder')"
   ]
  },
  {
   "cell_type": "code",
   "execution_count": 14,
   "metadata": {},
   "outputs": [
    {
     "output_type": "stream",
     "name": "stdout",
     "text": [
      "/home/prakhar/Data/python-opencv/new_folder\n/home/prakhar/Data/python-opencv/new_folder/new_folder\n"
     ]
    }
   ],
   "source": [
    "# to change CWD\n",
    "print(os.getcwd()) #currently we are at here\n",
    "\n",
    "# again first check whether the folder exists or not\n",
    "if os.path.exists('new_folder'):\n",
    "    os.chdir('new_folder') #changing dir\n",
    "\n",
    "print(os.getcwd()) #now we are here"
   ]
  },
  {
   "cell_type": "code",
   "execution_count": 15,
   "metadata": {},
   "outputs": [
    {
     "output_type": "stream",
     "name": "stdout",
     "text": [
      "False\nFalse\n"
     ]
    }
   ],
   "source": [
    "# os.path sub module\n",
    "# it is used to check whether a file or a dir exists or not \n",
    "# it has 4 methods\n",
    "# exists()\n",
    "# isfile()\n",
    "# isdir()\n",
    "\n",
    "# Python 3.4 and above versions have pathlib Module for handling with file system path. It used object-oriented approach to check if file exist or not.\n",
    "\n",
    "# to check whether a file or dir exists or not using os.path\n",
    "print(os.path.exists('xvy'))\n",
    "print(os.path.exists('galaxy.jpeg'))"
   ]
  },
  {
   "cell_type": "code",
   "execution_count": 16,
   "metadata": {},
   "outputs": [
    {
     "output_type": "stream",
     "name": "stdout",
     "text": [
      "False\nFalse\nFalse\nFalse\n"
     ]
    }
   ],
   "source": [
    "# check whether the item is a file or a folder\n",
    "# for this we have to use os.path\n",
    "file = 'galaxy.jpeg'\n",
    "not_file = 'opencv-basics'\n",
    "folder = 'opencv-basics'\n",
    "not_folder = 'galaxy.jpeg'\n",
    "\n",
    "print(os.path.isfile(file))\n",
    "print(os.path.isfile(not_file))\n",
    "print(os.path.isdir(folder))\n",
    "print(os.path.isdir(not_folder))"
   ]
  },
  {
   "cell_type": "code",
   "execution_count": 17,
   "metadata": {},
   "outputs": [
    {
     "output_type": "stream",
     "name": "stdout",
     "text": [
      "Not available\n"
     ]
    }
   ],
   "source": [
    "# 4rth method\n",
    "import pathlib\n",
    "\n",
    "file = pathlib.Path('galaxy.jpeg')\n",
    "if file.exists():\n",
    "    print('Available')\n",
    "else:\n",
    "    print('Not available')"
   ]
  }
 ]
}